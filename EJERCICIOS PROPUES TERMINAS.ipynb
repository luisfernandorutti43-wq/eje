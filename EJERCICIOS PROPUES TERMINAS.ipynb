{
  "nbformat": 4,
  "nbformat_minor": 0,
  "metadata": {
    "colab": {
      "provenance": [],
      "authorship_tag": "ABX9TyMY4XNoz5r64netMNZSLmsc",
      "include_colab_link": true
    },
    "kernelspec": {
      "name": "python3",
      "display_name": "Python 3"
    },
    "language_info": {
      "name": "python"
    }
  },
  "cells": [
    {
      "cell_type": "markdown",
      "metadata": {
        "id": "view-in-github",
        "colab_type": "text"
      },
      "source": [
        "<a href=\"https://colab.research.google.com/github/luisfernandorutti43-wq/eje/blob/main/EJERCICIOS%20PROPUES%20TERMINAS.ipynb\" target=\"_parent\"><img src=\"https://colab.research.google.com/assets/colab-badge.svg\" alt=\"Open In Colab\"/></a>"
      ]
    },
    {
      "cell_type": "code",
      "source": [
        "\n",
        "import numpy as np"
      ],
      "metadata": {
        "id": "VLrI0EtkKFF7"
      },
      "execution_count": 3,
      "outputs": []
    },
    {
      "cell_type": "markdown",
      "source": [
        "EJERCICIO 1"
      ],
      "metadata": {
        "id": "nl4G8g-GKReK"
      }
    },
    {
      "cell_type": "code",
      "execution_count": 5,
      "metadata": {
        "colab": {
          "base_uri": "https://localhost:8080/"
        },
        "id": "eagJC8JVJ31u",
        "outputId": "435c51c2-0699-431c-9a4f-dc11cfdc8dda"
      },
      "outputs": [
        {
          "output_type": "stream",
          "name": "stdout",
          "text": [
            " Matemáticas, Física, Química, Historia,Lengua\n"
          ]
        }
      ],
      "source": [
        "materias = np.array(' Matemáticas, Física, Química, Historia,Lengua')\n",
        "print (materias)\n",
        "\n",
        "np.save('materias',materias)"
      ]
    },
    {
      "cell_type": "markdown",
      "source": [
        "EJERCICIO 2"
      ],
      "metadata": {
        "id": "QXEJrTIfKV6r"
      }
    },
    {
      "cell_type": "code",
      "source": [
        "\n",
        "materias= [ \"Matemáticas\", \"Física\", \"Química\", \"Historia\",\"Lengua\"]\n",
        "\n",
        "\n",
        "for materia in materias:\n",
        "\n",
        "  print(f\"yo estudio {materia}\")\n",
        "np.save('eje2materias', materias)"
      ],
      "metadata": {
        "colab": {
          "base_uri": "https://localhost:8080/"
        },
        "id": "c8o9jwxAKYu6",
        "outputId": "fb498231-bd75-49e7-a816-612ace334f02"
      },
      "execution_count": 6,
      "outputs": [
        {
          "output_type": "stream",
          "name": "stdout",
          "text": [
            "yo estudio Matemáticas\n",
            "yo estudio Física\n",
            "yo estudio Química\n",
            "yo estudio Historia\n",
            "yo estudio Lengua\n"
          ]
        }
      ]
    },
    {
      "cell_type": "markdown",
      "source": [
        "EJERCICIO 3"
      ],
      "metadata": {
        "id": "CR8AgZLfKeny"
      }
    },
    {
      "cell_type": "code",
      "source": [
        "\n",
        "# Lista de asignaturas\n",
        "materias = [\"Matemáticas\", \"Física\", \"Química\", \"Historia\", \"Lengua\"]\n",
        "\n",
        "# Lista para guardar las notas\n",
        "notas = []\n",
        "\n",
        "# Pedir al usuario la nota de cada asignatura\n",
        "\n",
        "for materia in materias:\n",
        "    while True:\n",
        "        try:\n",
        "            nota = float(input(f\"Introduce la nota de {materia}: \"))\n",
        "            if 0 <= nota <= 20:\n",
        "                notas.append(nota)\n",
        "                break\n",
        "            else:\n",
        "                print(\"Por favor, introduce una nota entre 0 y 20.\")\n",
        "        except ValueError:\n",
        "            print(\"Por favor, introduce un número válido.\")\n",
        "\n",
        "# Mostrar las asignaturas con sus notas\n",
        "for asignatura, nota in zip(materias, notas):\n",
        "    print(f\"En {asignatura} has sacado {nota}\")\n",
        "\n",
        "\n",
        "np.save('eje3materias',materias)"
      ],
      "metadata": {
        "colab": {
          "base_uri": "https://localhost:8080/"
        },
        "id": "ZAevN8OQKhfC",
        "outputId": "fd5f7503-ca32-48f1-d16f-34801e3f6ac7"
      },
      "execution_count": 7,
      "outputs": [
        {
          "output_type": "stream",
          "name": "stdout",
          "text": [
            "Introduce la nota de Matemáticas: 12\n",
            "Introduce la nota de Física: 13\n",
            "Introduce la nota de Química: 12\n",
            "Introduce la nota de Historia: 12\n",
            "Introduce la nota de Lengua: 12\n",
            "En Matemáticas has sacado 12.0\n",
            "En Física has sacado 13.0\n",
            "En Química has sacado 12.0\n",
            "En Historia has sacado 12.0\n",
            "En Lengua has sacado 12.0\n"
          ]
        }
      ]
    },
    {
      "cell_type": "markdown",
      "source": [
        "EJERCICIO4"
      ],
      "metadata": {
        "id": "J_3WArfSKvXS"
      }
    },
    {
      "cell_type": "code",
      "source": [
        "# Lista para almacenar los números ganadores\n",
        "ganadores = []\n",
        "\n",
        "# Preguntar al usuario 6 números ganadores\n",
        "print(\"Introduce los 6 números ganadores de la lotería primitiva:\")\n",
        "\n",
        "while len(ganadores) < 6:\n",
        "    try:\n",
        "        num = int(input(f\"Número {len(ganadores)+1}: \"))\n",
        "        if 1 <= num <= 10:  # rango típico para la lotería primitiva\n",
        "            if num not in ganadores:\n",
        "                ganadores.append(num)\n",
        "            else:\n",
        "                print(\"Ese número ya lo has introducido, prueba con otro.\")\n",
        "        else:\n",
        "            print(\"Introduce un número entre 1 y 10.\")\n",
        "    except ValueError:\n",
        "        print(\"Por favor, introduce un número entero válido.\")\n",
        "\n",
        "# Ordenar la lista de menor a mayor\n",
        "ganadores.sort()\n",
        "\n",
        "# Mostrar los números ordenados\n",
        "print(\"Los números ganadores ordenados son:\")\n",
        "print(ganadores)\n",
        "np.save('eje4',ganadores)\n",
        ""
      ],
      "metadata": {
        "colab": {
          "base_uri": "https://localhost:8080/"
        },
        "id": "YPWA6tVyKzpL",
        "outputId": "b1048311-72d0-4489-ee4a-28d723e9339c"
      },
      "execution_count": 9,
      "outputs": [
        {
          "output_type": "stream",
          "name": "stdout",
          "text": [
            "Introduce los 6 números ganadores de la lotería primitiva:\n",
            "Número 1: 6\n",
            "Número 2: 5\n",
            "Número 3: 2\n",
            "Número 4: 4\n",
            "Número 5: 4\n",
            "Ese número ya lo has introducido, prueba con otro.\n",
            "Número 5: 5\n",
            "Ese número ya lo has introducido, prueba con otro.\n",
            "Número 5: 6\n",
            "Ese número ya lo has introducido, prueba con otro.\n",
            "Número 5: 78\n",
            "Introduce un número entre 1 y 10.\n",
            "Número 5: 12\n",
            "Introduce un número entre 1 y 10.\n",
            "Número 5: 8\n",
            "Número 6: 8\n",
            "Ese número ya lo has introducido, prueba con otro.\n",
            "Número 6: 1\n",
            "Los números ganadores ordenados son:\n",
            "[1, 2, 4, 5, 6, 8]\n"
          ]
        }
      ]
    },
    {
      "cell_type": "markdown",
      "source": [
        "EJERCICIO 5"
      ],
      "metadata": {
        "id": "Nsb8MSiaLYxy"
      }
    },
    {
      "cell_type": "code",
      "source": [
        "numeros=[1,2,3,4,5,6,7,8,9,10]\n",
        "numeros_inverso =numeros [::-1]\n",
        "print (numeros_inverso)\n"
      ],
      "metadata": {
        "colab": {
          "base_uri": "https://localhost:8080/"
        },
        "id": "LsXEVGwZLnSy",
        "outputId": "5f4ef716-8d2c-459f-c60d-463cd648a9be"
      },
      "execution_count": 12,
      "outputs": [
        {
          "output_type": "stream",
          "name": "stdout",
          "text": [
            "[10, 9, 8, 7, 6, 5, 4, 3, 2, 1]\n"
          ]
        }
      ]
    },
    {
      "cell_type": "markdown",
      "source": [
        "EJERCICIO 6"
      ],
      "metadata": {
        "id": "hy9vZJSKLvQz"
      }
    },
    {
      "cell_type": "code",
      "source": [
        "# Lista de MATERIAS\n",
        "materias = [\"Matemáticas\", \"Física\", \"Química\", \"Historia\", \"Lengua\"]\n",
        "\n",
        "# Lista para guardar materias que hay que repetir\n",
        "materias_repetir = []\n",
        "\n",
        "# Preguntar nota para cada asignatura\n",
        "for materia in materias:\n",
        "    nota = float(input(f\"Introduce la nota de {materia}: \"))\n",
        "    if nota < 11:\n",
        "        materias_repetir.append(materia)\n",
        "\n",
        "# Mostrar materias que hay que repetir\n",
        "if materias_repetir:\n",
        "    print(\"Debes repetir las siguientes meterias:\")\n",
        "    for materia in materias_repetir:\n",
        "        print(materia)\n",
        "else:\n",
        "    print(\"¡Enhorabuena! Has aprobado todas las materias.\")\n"
      ],
      "metadata": {
        "colab": {
          "base_uri": "https://localhost:8080/"
        },
        "id": "DKK7c5_QMA5y",
        "outputId": "80aee444-4a2d-4bda-de42-92dd9ff353a4"
      },
      "execution_count": 18,
      "outputs": [
        {
          "output_type": "stream",
          "name": "stdout",
          "text": [
            "Introduce la nota de Matemáticas: 10\n",
            "Introduce la nota de Física: 10\n",
            "Introduce la nota de Química: 10\n",
            "Introduce la nota de Historia: 10\n",
            "Introduce la nota de Lengua: 10\n",
            "Debes repetir las siguientes meterias:\n",
            "Matemáticas\n",
            "Física\n",
            "Química\n",
            "Historia\n",
            "Lengua\n"
          ]
        }
      ]
    }
  ]
}