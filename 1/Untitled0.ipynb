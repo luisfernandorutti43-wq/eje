{
  "nbformat": 4,
  "nbformat_minor": 0,
  "metadata": {
    "colab": {
      "provenance": [],
      "authorship_tag": "ABX9TyPV+exV1AxEMpVLJzh+7LPx",
      "include_colab_link": true
    },
    "kernelspec": {
      "name": "python3",
      "display_name": "Python 3"
    },
    "language_info": {
      "name": "python"
    }
  },
  "cells": [
    {
      "cell_type": "markdown",
      "metadata": {
        "id": "view-in-github",
        "colab_type": "text"
      },
      "source": [
        "<a href=\"https://colab.research.google.com/github/luisfernandorutti43-wq/eje/blob/main/1/Untitled0.ipynb\" target=\"_parent\"><img src=\"https://colab.research.google.com/assets/colab-badge.svg\" alt=\"Open In Colab\"/></a>"
      ]
    },
    {
      "cell_type": "code",
      "execution_count": null,
      "metadata": {
        "id": "szr8tCXvtY0m"
      },
      "outputs": [],
      "source": []
    },
    {
      "cell_type": "markdown",
      "source": [
        "Numpy, ciencia de datos"
      ],
      "metadata": {
        "id": "mL88BhjkuA_0"
      }
    },
    {
      "cell_type": "code",
      "source": [
        "import numpy as np\n"
      ],
      "metadata": {
        "id": "GxTlvSU7uiy9"
      },
      "execution_count": null,
      "outputs": []
    },
    {
      "cell_type": "code",
      "source": [
        "#dimension 1\n",
        "array_id=np.array({10,20,30})\n",
        "print(array_id)"
      ],
      "metadata": {
        "colab": {
          "base_uri": "https://localhost:8080/"
        },
        "id": "JejATuBBvvok",
        "outputId": "6f4ffa88-d258-44b2-b29c-2b414ca482d2"
      },
      "execution_count": null,
      "outputs": [
        {
          "output_type": "stream",
          "name": "stdout",
          "text": [
            "{10, 20, 30}\n"
          ]
        }
      ]
    },
    {
      "cell_type": "code",
      "source": [
        "array_id"
      ],
      "metadata": {
        "colab": {
          "base_uri": "https://localhost:8080/"
        },
        "id": "G1hitKs_wUy1",
        "outputId": "87a81c05-42a3-41ad-f04d-37baa4a42062"
      },
      "execution_count": null,
      "outputs": [
        {
          "output_type": "execute_result",
          "data": {
            "text/plain": [
              "array({10, 20, 30}, dtype=object)"
            ]
          },
          "metadata": {},
          "execution_count": 3
        }
      ]
    },
    {
      "cell_type": "markdown",
      "source": [
        "Dimension 2 arrays\n"
      ],
      "metadata": {
        "id": "7-KPfteqw2le"
      }
    },
    {
      "cell_type": "code",
      "source": [
        "array_2id=np.array([(10,20,30),(50,60,70)])\n",
        "array_2id"
      ],
      "metadata": {
        "colab": {
          "base_uri": "https://localhost:8080/"
        },
        "id": "0J8BiwkuxD-0",
        "outputId": "d8e711c2-4056-49b3-c18e-adec9bf66851"
      },
      "execution_count": null,
      "outputs": [
        {
          "output_type": "execute_result",
          "data": {
            "text/plain": [
              "array([[10, 20, 30],\n",
              "       [50, 60, 70]])"
            ]
          },
          "metadata": {},
          "execution_count": 6
        }
      ]
    },
    {
      "cell_type": "markdown",
      "source": [
        "Dimension 3 arrays"
      ],
      "metadata": {
        "id": "6JPT-cM9xw6N"
      }
    },
    {
      "cell_type": "code",
      "source": [
        "array_3id=np.array([(10,20,30),(40,50,60),(70,80,90)],dtype=float)\n",
        "array_3id\n"
      ],
      "metadata": {
        "colab": {
          "base_uri": "https://localhost:8080/"
        },
        "id": "UN8XUIXBx1Gk",
        "outputId": "620db975-6fcb-4726-b92e-b25c5d57d5d1"
      },
      "execution_count": null,
      "outputs": [
        {
          "output_type": "execute_result",
          "data": {
            "text/plain": [
              "array([[10., 20., 30.],\n",
              "       [40., 50., 60.],\n",
              "       [70., 80., 90.]])"
            ]
          },
          "metadata": {},
          "execution_count": 10
        }
      ]
    },
    {
      "cell_type": "markdown",
      "source": [
        "array con ceros de filas y 4  columnas\n"
      ],
      "metadata": {
        "id": "qdOhlFNK4Tis"
      }
    },
    {
      "cell_type": "code",
      "source": [
        "np.zeros((3,4))\n"
      ],
      "metadata": {
        "colab": {
          "base_uri": "https://localhost:8080/"
        },
        "id": "m6tW2c-W4eFz",
        "outputId": "a2071588-ada5-451e-8656-cb397a3840d4"
      },
      "execution_count": null,
      "outputs": [
        {
          "output_type": "execute_result",
          "data": {
            "text/plain": [
              "array([[0., 0., 0., 0.],\n",
              "       [0., 0., 0., 0.],\n",
              "       [0., 0., 0., 0.]])"
            ]
          },
          "metadata": {},
          "execution_count": 11
        }
      ]
    },
    {
      "cell_type": "markdown",
      "source": [
        "array dr unos con 2 dimensiones 4 filas 5 columnas"
      ],
      "metadata": {
        "id": "x3S8SZQbJ7ld"
      }
    },
    {
      "cell_type": "code",
      "source": [
        "np.ones((2,4,5))"
      ],
      "metadata": {
        "colab": {
          "base_uri": "https://localhost:8080/"
        },
        "id": "3g_dDMvP5CIL",
        "outputId": "b0f34999-3a04-4262-9ad1-165224ef93c7"
      },
      "execution_count": null,
      "outputs": [
        {
          "output_type": "execute_result",
          "data": {
            "text/plain": [
              "array([[[1., 1., 1., 1., 1.],\n",
              "        [1., 1., 1., 1., 1.],\n",
              "        [1., 1., 1., 1., 1.],\n",
              "        [1., 1., 1., 1., 1.]],\n",
              "\n",
              "       [[1., 1., 1., 1., 1.],\n",
              "        [1., 1., 1., 1., 1.],\n",
              "        [1., 1., 1., 1., 1.],\n",
              "        [1., 1., 1., 1., 1.]]])"
            ]
          },
          "metadata": {},
          "execution_count": 12
        }
      ]
    },
    {
      "cell_type": "markdown",
      "source": [
        "arrays intervalos y saltos"
      ],
      "metadata": {
        "id": "A0ZGFcTp5VwS"
      }
    },
    {
      "cell_type": "code",
      "source": [
        "np.arange(20,30,40)"
      ],
      "metadata": {
        "colab": {
          "base_uri": "https://localhost:8080/"
        },
        "id": "DiJgVW4b5akE",
        "outputId": "b0cff548-c98b-4c5b-b972-425cde939411"
      },
      "execution_count": null,
      "outputs": [
        {
          "output_type": "execute_result",
          "data": {
            "text/plain": [
              "array([20])"
            ]
          },
          "metadata": {},
          "execution_count": 13
        }
      ]
    },
    {
      "cell_type": "code",
      "source": [
        "np.arange(11,50,2)"
      ],
      "metadata": {
        "colab": {
          "base_uri": "https://localhost:8080/"
        },
        "id": "LzBJnDp955Ki",
        "outputId": "6146b116-7784-4948-e74a-5d2417775924"
      },
      "execution_count": null,
      "outputs": [
        {
          "output_type": "execute_result",
          "data": {
            "text/plain": [
              "array([11, 13, 15, 17, 19, 21, 23, 25, 27, 29, 31, 33, 35, 37, 39, 41, 43,\n",
              "       45, 47, 49])"
            ]
          },
          "metadata": {},
          "execution_count": 14
        }
      ]
    },
    {
      "cell_type": "code",
      "source": [
        "edadmenor = 15\n",
        "edadmayor = 30\n",
        "mayor = np.maximum (edadmenor,edadmayor)\n",
        "menor = np.minimum (edadmenor,edadmayor)\n",
        "\n",
        "print(\"el mayor es: \" ,mayor)\n",
        "print(\"el menor es: \" ,menor)"
      ],
      "metadata": {
        "colab": {
          "base_uri": "https://localhost:8080/"
        },
        "id": "MZ6DUV0L6HB7",
        "outputId": "ff15b522-37a5-4158-c0af-bcb577c6778d"
      },
      "execution_count": null,
      "outputs": [
        {
          "output_type": "stream",
          "name": "stdout",
          "text": [
            "el mayor es:  30\n",
            "el menor es:  15\n"
          ]
        }
      ]
    },
    {
      "cell_type": "code",
      "source": [
        "#ARRAYS CON INTERVALO Y DIVISIONES\n",
        "np.linspace(0,4,7)"
      ],
      "metadata": {
        "colab": {
          "base_uri": "https://localhost:8080/"
        },
        "id": "K2sgKq958E9b",
        "outputId": "3915353a-ff08-43db-9ee5-3c40d66c9a94"
      },
      "execution_count": null,
      "outputs": [
        {
          "output_type": "execute_result",
          "data": {
            "text/plain": [
              "array([0.        , 0.66666667, 1.33333333, 2.        , 2.66666667,\n",
              "       3.33333333, 4.        ])"
            ]
          },
          "metadata": {},
          "execution_count": 17
        }
      ]
    },
    {
      "cell_type": "markdown",
      "source": [
        "ARRAYS CON VALORES DADOS"
      ],
      "metadata": {
        "id": "JrTJXvPY8kpT"
      }
    },
    {
      "cell_type": "code",
      "source": [
        "np.full((3,3),7)"
      ],
      "metadata": {
        "colab": {
          "base_uri": "https://localhost:8080/"
        },
        "id": "Tve-S0_y8pBT",
        "outputId": "ea34404b-c582-4972-fd73-a2ed30a21e1c"
      },
      "execution_count": null,
      "outputs": [
        {
          "output_type": "execute_result",
          "data": {
            "text/plain": [
              "array([[7, 7, 7],\n",
              "       [7, 7, 7],\n",
              "       [7, 7, 7]])"
            ]
          },
          "metadata": {},
          "execution_count": 18
        }
      ]
    },
    {
      "cell_type": "code",
      "source": [
        "array matrix identidad, diogonal, de unos"
      ],
      "metadata": {
        "id": "zefjMOLO880t"
      },
      "execution_count": null,
      "outputs": []
    },
    {
      "cell_type": "code",
      "source": [
        "np.eye(6)"
      ],
      "metadata": {
        "colab": {
          "base_uri": "https://localhost:8080/"
        },
        "id": "t2wUjr0J9VdT",
        "outputId": "24baf19b-d178-4f22-8f80-7fe66a71808f"
      },
      "execution_count": null,
      "outputs": [
        {
          "output_type": "execute_result",
          "data": {
            "text/plain": [
              "array([[1., 0., 0., 0., 0., 0.],\n",
              "       [0., 1., 0., 0., 0., 0.],\n",
              "       [0., 0., 1., 0., 0., 0.],\n",
              "       [0., 0., 0., 1., 0., 0.],\n",
              "       [0., 0., 0., 0., 1., 0.],\n",
              "       [0., 0., 0., 0., 0., 1.]])"
            ]
          },
          "metadata": {},
          "execution_count": 21
        }
      ]
    },
    {
      "cell_type": "markdown",
      "source": [],
      "metadata": {
        "id": "GyCWCnWk88Cc"
      }
    },
    {
      "cell_type": "code",
      "source": [
        "np.eye(3,3,1,)"
      ],
      "metadata": {
        "colab": {
          "base_uri": "https://localhost:8080/"
        },
        "id": "gmCJqNQE-BwS",
        "outputId": "da982105-6d6c-4787-b630-096fbc6b9bad"
      },
      "execution_count": null,
      "outputs": [
        {
          "output_type": "execute_result",
          "data": {
            "text/plain": [
              "array([[0., 1., 0.],\n",
              "       [0., 0., 1.],\n",
              "       [0., 0., 0.]])"
            ]
          },
          "metadata": {},
          "execution_count": 29
        }
      ]
    },
    {
      "cell_type": "code",
      "source": [
        "np.random.random((4,4))"
      ],
      "metadata": {
        "colab": {
          "base_uri": "https://localhost:8080/"
        },
        "id": "Q2LEL8hc-qtr",
        "outputId": "36730ee0-712f-47d0-95dc-8f7872fde350"
      },
      "execution_count": null,
      "outputs": [
        {
          "output_type": "execute_result",
          "data": {
            "text/plain": [
              "array([[0.9281473 , 0.35996282, 0.04970127, 0.81230517],\n",
              "       [0.28332216, 0.26177808, 0.91460654, 0.50577643],\n",
              "       [0.55151189, 0.96568202, 0.81786696, 0.26805557],\n",
              "       [0.92925651, 0.99427875, 0.05474503, 0.06721785]])"
            ]
          },
          "metadata": {},
          "execution_count": 33
        }
      ]
    },
    {
      "cell_type": "markdown",
      "source": [
        "Array de numeros vacios 4*3"
      ],
      "metadata": {
        "id": "onBWvKbJ_SHS"
      }
    },
    {
      "cell_type": "code",
      "source": [],
      "metadata": {
        "id": "WYSY6wZgBm7b"
      },
      "execution_count": null,
      "outputs": []
    },
    {
      "cell_type": "markdown",
      "source": [
        "grabar y cargar"
      ],
      "metadata": {
        "id": "aekLHxgPBzWJ"
      }
    },
    {
      "cell_type": "code",
      "source": [
        "np.save('mi_arrays_3d',np.random.random((3,3)))\n",
        "\n"
      ],
      "metadata": {
        "id": "vKJiNZ13BvUa"
      },
      "execution_count": null,
      "outputs": []
    },
    {
      "cell_type": "code",
      "source": [
        "#cargar\n",
        "mi_arrays=np.load('mi_arrays_3d.npy')\n",
        "mi_arrays"
      ],
      "metadata": {
        "colab": {
          "base_uri": "https://localhost:8080/"
        },
        "id": "JCo03f98CkRa",
        "outputId": "7ffefd16-fa1b-4e75-e175-41dd6b49f885"
      },
      "execution_count": null,
      "outputs": [
        {
          "output_type": "execute_result",
          "data": {
            "text/plain": [
              "array([[0.8486208 , 0.87753709, 0.30892217],\n",
              "       [0.68897478, 0.69809836, 0.36378371],\n",
              "       [0.96218438, 0.89693034, 0.71895882]])"
            ]
          },
          "metadata": {},
          "execution_count": 45
        }
      ]
    },
    {
      "cell_type": "markdown",
      "source": [
        "\n",
        "grabar  y cargar ficheros de texto\n"
      ],
      "metadata": {
        "id": "NTOjLqZfFJjp"
      }
    },
    {
      "cell_type": "code",
      "source": [
        "# Crear un array de ejemplo\n",
        "array_2id = np.eye(6)  # matriz identidad 6x6\n",
        "\n",
        "# Guardar en archivo de texto\n",
        "np.savetxt('mi_array.txt', array_2id, delimiter=\" \")"
      ],
      "metadata": {
        "id": "TZAcjpa-FD3C"
      },
      "execution_count": null,
      "outputs": []
    },
    {
      "cell_type": "code",
      "source": [
        "# Cargar el archivo\n",
        "array_cargado = np.loadtxt('mi_array.txt')\n",
        "\n",
        "print(array_cargado)"
      ],
      "metadata": {
        "colab": {
          "base_uri": "https://localhost:8080/"
        },
        "id": "BEAvHvfrGMCS",
        "outputId": "bc162c4e-a24a-40d9-d467-924093d8f430"
      },
      "execution_count": null,
      "outputs": [
        {
          "output_type": "stream",
          "name": "stdout",
          "text": [
            "[[1. 0. 0. 0. 0. 0.]\n",
            " [0. 1. 0. 0. 0. 0.]\n",
            " [0. 0. 1. 0. 0. 0.]\n",
            " [0. 0. 0. 1. 0. 0.]\n",
            " [0. 0. 0. 0. 1. 0.]\n",
            " [0. 0. 0. 0. 0. 1.]]\n"
          ]
        }
      ]
    },
    {
      "cell_type": "markdown",
      "source": [
        "almacen de materias"
      ],
      "metadata": {
        "id": "dPwIdW9aFNJo"
      }
    },
    {
      "cell_type": "code",
      "source": [
        "materias = np.array(' Matemáticas, Física, Química, Historia,Lengua')\n",
        "print (materias)\n",
        "\n",
        "np.save('materias',materias)\n"
      ],
      "metadata": {
        "colab": {
          "base_uri": "https://localhost:8080/"
        },
        "id": "zVUkazjSJo7p",
        "outputId": "8a6bd6fc-5f51-4719-c6e6-d241532d8084"
      },
      "execution_count": null,
      "outputs": [
        {
          "output_type": "stream",
          "name": "stdout",
          "text": [
            " Matemáticas, Física, Química, Historia,Lengua\n"
          ]
        }
      ]
    },
    {
      "cell_type": "markdown",
      "source": [
        "EJERCICIO 2"
      ],
      "metadata": {
        "id": "H1r7cGS3OGq4"
      }
    },
    {
      "cell_type": "code",
      "source": [
        "materias= [ \"Matemáticas\", \"Física\", \"Química\", \"Historia\",\"Lengua\"]\n",
        "\n",
        "\n",
        "for materia in materias:\n",
        "\n",
        "  print(f\"yo estudio {materia}\")\n",
        "np.save('eje2materias', materias)"
      ],
      "metadata": {
        "colab": {
          "base_uri": "https://localhost:8080/"
        },
        "id": "mlbn-dKRLDwS",
        "outputId": "f9573f57-3428-4095-dc98-5cd68091f0d0"
      },
      "execution_count": null,
      "outputs": [
        {
          "output_type": "stream",
          "name": "stdout",
          "text": [
            "yo estudio Matemáticas\n",
            "yo estudio Física\n",
            "yo estudio Química\n",
            "yo estudio Historia\n",
            "yo estudio Lengua\n"
          ]
        }
      ]
    },
    {
      "cell_type": "markdown",
      "source": [
        "EJERCICIO 3"
      ],
      "metadata": {
        "id": "hA3ebhe8QZDY"
      }
    },
    {
      "cell_type": "code",
      "source": [
        "# Lista de asignaturas\n",
        "materias = [\"Matemáticas\", \"Física\", \"Química\", \"Historia\", \"Lengua\"]\n",
        "\n",
        "# Lista para guardar las notas\n",
        "notas = []\n",
        "\n",
        "# Pedir al usuario la nota de cada asignatura\n",
        "\n",
        "for materia in materias:\n",
        "    while True:\n",
        "        try:\n",
        "            nota = float(input(f\"Introduce la nota de {materia}: \"))\n",
        "            if 0 <= nota <= 20:\n",
        "                notas.append(nota)\n",
        "                break\n",
        "            else:\n",
        "                print(\"Por favor, introduce una nota entre 0 y 20.\")\n",
        "        except ValueError:\n",
        "            print(\"Por favor, introduce un número válido.\")\n",
        "\n",
        "# Mostrar las asignaturas con sus notas\n",
        "for asignatura, nota in zip(materias, notas):\n",
        "    print(f\"En {asignatura} has sacado {nota}\")\n",
        "\n",
        "\n",
        "np.save('eje3materias',materias)\n",
        "\n",
        "\n"
      ],
      "metadata": {
        "colab": {
          "base_uri": "https://localhost:8080/"
        },
        "id": "7HvnYZnjN_Ta",
        "outputId": "947ea75a-6c95-462b-be8a-3c249664c2d5"
      },
      "execution_count": null,
      "outputs": [
        {
          "output_type": "stream",
          "name": "stdout",
          "text": [
            "Introduce la nota de Matemáticas: 0\n",
            "Introduce la nota de Física: 0\n",
            "Introduce la nota de Química: 0\n",
            "Introduce la nota de Historia: 0\n",
            "Introduce la nota de Lengua: 0\n",
            "En Matemáticas has sacado 0.0\n",
            "En Física has sacado 0.0\n",
            "En Química has sacado 0.0\n",
            "En Historia has sacado 0.0\n",
            "En Lengua has sacado 0.0\n"
          ]
        }
      ]
    },
    {
      "cell_type": "markdown",
      "source": [
        "EJERCICIO 4\n"
      ],
      "metadata": {
        "id": "i63uYEiU_G_a"
      }
    },
    {
      "cell_type": "code",
      "source": [
        "\n",
        "# Lista para almacenar los números ganadores\n",
        "ganadores = []\n",
        "\n",
        "# Preguntar al usuario 3 números ganadores\n",
        "print(\"Introduce los 3 números ganadores de la lotería primitiva:\")\n",
        "\n",
        "while len(ganadores) < 3:\n",
        "    try:\n",
        "        num = int(input(f\"Número {len(ganadores)+1}: \"))\n",
        "        if 1 <= num <= 10:  # rango típico para la lotería primitiva\n",
        "            if num not in ganadores:\n",
        "                ganadores.append(num)\n",
        "            else:\n",
        "                print(\"Ese número ya lo has introducido, prueba con otro.\")\n",
        "        else:\n",
        "            print(\"Introduce un número entre 1 y 10.\")\n",
        "    except ValueError:\n",
        "        print(\"Por favor, introduce un número entero válido.\")\n",
        "\n",
        "# Ordenar la lista de menor a mayor\n",
        "ganadores.sort()\n",
        "\n",
        "# Mostrar los números ordenados\n",
        "print(\"Los números ganadores ordenados son:\")\n",
        "print(ganadores)\n",
        "np.save('eje4',ganadores)"
      ],
      "metadata": {
        "colab": {
          "base_uri": "https://localhost:8080/"
        },
        "id": "2a8yxeoeQhkv",
        "outputId": "e6ff033f-ef31-4bda-aa5f-f848d0b25af3"
      },
      "execution_count": null,
      "outputs": [
        {
          "output_type": "stream",
          "name": "stdout",
          "text": [
            "Introduce los 3 números ganadores de la lotería primitiva:\n",
            "Número 1: 0\n",
            "Introduce un número entre 1 y 10.\n",
            "Número 1: 1\n",
            "Número 2: 2\n",
            "Número 3: 3\n",
            "Los números ganadores ordenados son:\n",
            "[1, 2, 3]\n"
          ]
        }
      ]
    },
    {
      "cell_type": "markdown",
      "source": [
        "EJERCICIO 5"
      ],
      "metadata": {
        "id": "Vk3gbeWDXhhH"
      }
    },
    {
      "cell_type": "code",
      "source": [
        "numeros=[1,2,3,4,5,6,7,8,9,10]\n",
        "numeros_inverso =numeros [-1]\n",
        "print (numeros_inverso)\n"
      ],
      "metadata": {
        "colab": {
          "base_uri": "https://localhost:8080/"
        },
        "id": "SGu9ryevXnnX",
        "outputId": "e1b30121-fb45-4ec8-d74a-7fe4de99261a"
      },
      "execution_count": null,
      "outputs": [
        {
          "output_type": "stream",
          "name": "stdout",
          "text": [
            "10\n"
          ]
        }
      ]
    }
  ]
}