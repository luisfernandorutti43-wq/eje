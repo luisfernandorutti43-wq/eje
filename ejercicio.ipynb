{
  "nbformat": 4,
  "nbformat_minor": 0,
  "metadata": {
    "colab": {
      "provenance": [],
      "authorship_tag": "ABX9TyPkd14wIP1/bm+z1GFMGEBP",
      "include_colab_link": true
    },
    "kernelspec": {
      "name": "python3",
      "display_name": "Python 3"
    },
    "language_info": {
      "name": "python"
    }
  },
  "cells": [
    {
      "cell_type": "markdown",
      "metadata": {
        "id": "view-in-github",
        "colab_type": "text"
      },
      "source": [
        "<a href=\"https://colab.research.google.com/github/luisfernandorutti43-wq/eje/blob/main/ejercicio.ipynb\" target=\"_parent\"><img src=\"https://colab.research.google.com/assets/colab-badge.svg\" alt=\"Open In Colab\"/></a>"
      ]
    },
    {
      "cell_type": "code",
      "execution_count": null,
      "metadata": {
        "id": "szr8tCXvtY0m"
      },
      "outputs": [],
      "source": []
    },
    {
      "cell_type": "markdown",
      "source": [
        "Numpy, ciencia de datos"
      ],
      "metadata": {
        "id": "mL88BhjkuA_0"
      }
    },
    {
      "cell_type": "code",
      "source": [
        "import numpy as np\n"
      ],
      "metadata": {
        "id": "GxTlvSU7uiy9"
      },
      "execution_count": 1,
      "outputs": []
    },
    {
      "cell_type": "code",
      "source": [
        "#dimension 1\n",
        "array_id=np.array({10,20,30})\n",
        "print(array_id)"
      ],
      "metadata": {
        "colab": {
          "base_uri": "https://localhost:8080/"
        },
        "id": "JejATuBBvvok",
        "outputId": "2754573b-32fa-43ad-b0b2-84434ef72b87"
      },
      "execution_count": 2,
      "outputs": [
        {
          "output_type": "stream",
          "name": "stdout",
          "text": [
            "{10, 20, 30}\n"
          ]
        }
      ]
    },
    {
      "cell_type": "code",
      "source": [
        "array_id"
      ],
      "metadata": {
        "colab": {
          "base_uri": "https://localhost:8080/"
        },
        "id": "G1hitKs_wUy1",
        "outputId": "822b9cb4-50f1-4632-b6e6-f80af52cc771"
      },
      "execution_count": 3,
      "outputs": [
        {
          "output_type": "execute_result",
          "data": {
            "text/plain": [
              "array({10, 20, 30}, dtype=object)"
            ]
          },
          "metadata": {},
          "execution_count": 3
        }
      ]
    },
    {
      "cell_type": "markdown",
      "source": [
        "Dimension 2 arrays\n"
      ],
      "metadata": {
        "id": "7-KPfteqw2le"
      }
    },
    {
      "cell_type": "code",
      "source": [
        "array_2id=np.array([(10,20,30),(50,60,70)])\n",
        "array_2id"
      ],
      "metadata": {
        "colab": {
          "base_uri": "https://localhost:8080/"
        },
        "id": "0J8BiwkuxD-0",
        "outputId": "0e710126-fce5-4365-dccf-abf48105f944"
      },
      "execution_count": 4,
      "outputs": [
        {
          "output_type": "execute_result",
          "data": {
            "text/plain": [
              "array([[10, 20, 30],\n",
              "       [50, 60, 70]])"
            ]
          },
          "metadata": {},
          "execution_count": 4
        }
      ]
    },
    {
      "cell_type": "markdown",
      "source": [
        "Dimension 3 arrays"
      ],
      "metadata": {
        "id": "6JPT-cM9xw6N"
      }
    },
    {
      "cell_type": "code",
      "source": [
        "array_3id=np.array([(10,20,30),(40,50,60),(70,80,90)],dtype=float)\n",
        "array_3id\n"
      ],
      "metadata": {
        "colab": {
          "base_uri": "https://localhost:8080/"
        },
        "id": "UN8XUIXBx1Gk",
        "outputId": "f02f6431-96a1-4b41-e9cc-c1b1b16622ba"
      },
      "execution_count": 5,
      "outputs": [
        {
          "output_type": "execute_result",
          "data": {
            "text/plain": [
              "array([[10., 20., 30.],\n",
              "       [40., 50., 60.],\n",
              "       [70., 80., 90.]])"
            ]
          },
          "metadata": {},
          "execution_count": 5
        }
      ]
    },
    {
      "cell_type": "markdown",
      "source": [
        "array con ceros de filas y 4  columnas\n"
      ],
      "metadata": {
        "id": "qdOhlFNK4Tis"
      }
    },
    {
      "cell_type": "code",
      "source": [
        "np.zeros((3,4))\n"
      ],
      "metadata": {
        "colab": {
          "base_uri": "https://localhost:8080/"
        },
        "id": "m6tW2c-W4eFz",
        "outputId": "a8a5d47c-99e0-4243-ee85-999e77ac9576"
      },
      "execution_count": 6,
      "outputs": [
        {
          "output_type": "execute_result",
          "data": {
            "text/plain": [
              "array([[0., 0., 0., 0.],\n",
              "       [0., 0., 0., 0.],\n",
              "       [0., 0., 0., 0.]])"
            ]
          },
          "metadata": {},
          "execution_count": 6
        }
      ]
    },
    {
      "cell_type": "markdown",
      "source": [
        "array dr unos con 2 dimensiones 4 filas 5 columnas"
      ],
      "metadata": {
        "id": "x3S8SZQbJ7ld"
      }
    },
    {
      "cell_type": "code",
      "source": [
        "np.ones((2,4,5))"
      ],
      "metadata": {
        "colab": {
          "base_uri": "https://localhost:8080/"
        },
        "id": "3g_dDMvP5CIL",
        "outputId": "0ffc157a-8978-4189-c3f1-7167a7f8a774"
      },
      "execution_count": 7,
      "outputs": [
        {
          "output_type": "execute_result",
          "data": {
            "text/plain": [
              "array([[[1., 1., 1., 1., 1.],\n",
              "        [1., 1., 1., 1., 1.],\n",
              "        [1., 1., 1., 1., 1.],\n",
              "        [1., 1., 1., 1., 1.]],\n",
              "\n",
              "       [[1., 1., 1., 1., 1.],\n",
              "        [1., 1., 1., 1., 1.],\n",
              "        [1., 1., 1., 1., 1.],\n",
              "        [1., 1., 1., 1., 1.]]])"
            ]
          },
          "metadata": {},
          "execution_count": 7
        }
      ]
    },
    {
      "cell_type": "markdown",
      "source": [
        "arrays intervalos y saltos"
      ],
      "metadata": {
        "id": "A0ZGFcTp5VwS"
      }
    },
    {
      "cell_type": "code",
      "source": [
        "np.arange(20,30,40)"
      ],
      "metadata": {
        "colab": {
          "base_uri": "https://localhost:8080/"
        },
        "id": "DiJgVW4b5akE",
        "outputId": "63185693-beb9-4251-b219-4775220c6048"
      },
      "execution_count": 8,
      "outputs": [
        {
          "output_type": "execute_result",
          "data": {
            "text/plain": [
              "array([20])"
            ]
          },
          "metadata": {},
          "execution_count": 8
        }
      ]
    },
    {
      "cell_type": "code",
      "source": [
        "np.arange(11,50,2)"
      ],
      "metadata": {
        "colab": {
          "base_uri": "https://localhost:8080/"
        },
        "id": "LzBJnDp955Ki",
        "outputId": "f3b72159-d187-43f7-d9a4-05333092dd4e"
      },
      "execution_count": 9,
      "outputs": [
        {
          "output_type": "execute_result",
          "data": {
            "text/plain": [
              "array([11, 13, 15, 17, 19, 21, 23, 25, 27, 29, 31, 33, 35, 37, 39, 41, 43,\n",
              "       45, 47, 49])"
            ]
          },
          "metadata": {},
          "execution_count": 9
        }
      ]
    },
    {
      "cell_type": "code",
      "source": [
        "edadmenor = 15\n",
        "edadmayor = 30\n",
        "mayor = np.maximum (edadmenor,edadmayor)\n",
        "menor = np.minimum (edadmenor,edadmayor)\n",
        "\n",
        "print(\"el mayor es: \" ,mayor)\n",
        "print(\"el menor es: \" ,menor)"
      ],
      "metadata": {
        "colab": {
          "base_uri": "https://localhost:8080/"
        },
        "id": "MZ6DUV0L6HB7",
        "outputId": "11b0b024-4e7d-4f3d-98a5-6aa88c71406c"
      },
      "execution_count": 10,
      "outputs": [
        {
          "output_type": "stream",
          "name": "stdout",
          "text": [
            "el mayor es:  30\n",
            "el menor es:  15\n"
          ]
        }
      ]
    },
    {
      "cell_type": "code",
      "source": [
        "#ARRAYS CON INTERVALO Y DIVISIONES\n",
        "np.linspace(0,4,7)"
      ],
      "metadata": {
        "colab": {
          "base_uri": "https://localhost:8080/"
        },
        "id": "K2sgKq958E9b",
        "outputId": "be0b1381-ec8d-4ff7-cd7d-80319c6c9174"
      },
      "execution_count": 11,
      "outputs": [
        {
          "output_type": "execute_result",
          "data": {
            "text/plain": [
              "array([0.        , 0.66666667, 1.33333333, 2.        , 2.66666667,\n",
              "       3.33333333, 4.        ])"
            ]
          },
          "metadata": {},
          "execution_count": 11
        }
      ]
    },
    {
      "cell_type": "markdown",
      "source": [
        "ARRAYS CON VALORES DADOS"
      ],
      "metadata": {
        "id": "JrTJXvPY8kpT"
      }
    },
    {
      "cell_type": "code",
      "source": [
        "np.full((3,3),7)"
      ],
      "metadata": {
        "colab": {
          "base_uri": "https://localhost:8080/"
        },
        "id": "Tve-S0_y8pBT",
        "outputId": "73927494-86cb-401a-e740-681172080b26"
      },
      "execution_count": 15,
      "outputs": [
        {
          "output_type": "execute_result",
          "data": {
            "text/plain": [
              "array([[7, 7, 7],\n",
              "       [7, 7, 7],\n",
              "       [7, 7, 7]])"
            ]
          },
          "metadata": {},
          "execution_count": 15
        }
      ]
    },
    {
      "cell_type": "markdown",
      "source": [
        "array matrix identidad, diogonal, de unos"
      ],
      "metadata": {
        "id": "nmYADR6ag6ts"
      }
    },
    {
      "cell_type": "code",
      "source": [
        "np.eye(6)"
      ],
      "metadata": {
        "colab": {
          "base_uri": "https://localhost:8080/"
        },
        "id": "t2wUjr0J9VdT",
        "outputId": "6ba12093-7d3c-45c7-8bc7-da6267106eba"
      },
      "execution_count": 14,
      "outputs": [
        {
          "output_type": "execute_result",
          "data": {
            "text/plain": [
              "array([[1., 0., 0., 0., 0., 0.],\n",
              "       [0., 1., 0., 0., 0., 0.],\n",
              "       [0., 0., 1., 0., 0., 0.],\n",
              "       [0., 0., 0., 1., 0., 0.],\n",
              "       [0., 0., 0., 0., 1., 0.],\n",
              "       [0., 0., 0., 0., 0., 1.]])"
            ]
          },
          "metadata": {},
          "execution_count": 14
        }
      ]
    },
    {
      "cell_type": "markdown",
      "source": [],
      "metadata": {
        "id": "GyCWCnWk88Cc"
      }
    },
    {
      "cell_type": "code",
      "source": [
        "np.eye(3,3,1,)"
      ],
      "metadata": {
        "id": "gmCJqNQE-BwS"
      },
      "execution_count": null,
      "outputs": []
    },
    {
      "cell_type": "code",
      "source": [
        "np.random.random((4,4))"
      ],
      "metadata": {
        "id": "Q2LEL8hc-qtr"
      },
      "execution_count": null,
      "outputs": []
    },
    {
      "cell_type": "markdown",
      "source": [
        "Array de numeros vacios 4*3"
      ],
      "metadata": {
        "id": "onBWvKbJ_SHS"
      }
    },
    {
      "cell_type": "code",
      "source": [],
      "metadata": {
        "id": "WYSY6wZgBm7b"
      },
      "execution_count": null,
      "outputs": []
    },
    {
      "cell_type": "markdown",
      "source": [
        "grabar y cargar"
      ],
      "metadata": {
        "id": "aekLHxgPBzWJ"
      }
    },
    {
      "cell_type": "code",
      "source": [
        "np.save('mi_arrays_3d',np.random.random((3,3)))\n",
        "\n"
      ],
      "metadata": {
        "id": "vKJiNZ13BvUa"
      },
      "execution_count": null,
      "outputs": []
    },
    {
      "cell_type": "code",
      "source": [
        "#cargar\n",
        "mi_arrays=np.load('mi_arrays_3d.npy')\n",
        "mi_arrays"
      ],
      "metadata": {
        "id": "JCo03f98CkRa"
      },
      "execution_count": null,
      "outputs": []
    },
    {
      "cell_type": "markdown",
      "source": [
        "\n",
        "grabar  y cargar ficheros de texto\n"
      ],
      "metadata": {
        "id": "NTOjLqZfFJjp"
      }
    },
    {
      "cell_type": "code",
      "source": [
        "# Crear un array de ejemplo\n",
        "array_2id = np.eye(6)  # matriz identidad 6x6\n",
        "\n",
        "# Guardar en archivo de texto\n",
        "np.savetxt('mi_array.txt', array_2id, delimiter=\" \")"
      ],
      "metadata": {
        "id": "TZAcjpa-FD3C"
      },
      "execution_count": null,
      "outputs": []
    },
    {
      "cell_type": "code",
      "source": [
        "# Cargar el archivo\n",
        "array_cargado = np.loadtxt('mi_array.txt')\n",
        "\n",
        "print(array_cargado)"
      ],
      "metadata": {
        "id": "BEAvHvfrGMCS"
      },
      "execution_count": null,
      "outputs": []
    },
    {
      "cell_type": "markdown",
      "source": [
        "almacen de materias"
      ],
      "metadata": {
        "id": "dPwIdW9aFNJo"
      }
    },
    {
      "cell_type": "code",
      "source": [
        "materias = np.array(' Matemáticas, Física, Química, Historia,Lengua')\n",
        "print (materias)\n",
        "\n",
        "np.save('materias',materias)\n"
      ],
      "metadata": {
        "id": "zVUkazjSJo7p"
      },
      "execution_count": null,
      "outputs": []
    },
    {
      "cell_type": "markdown",
      "source": [
        "EJERCICIO 2"
      ],
      "metadata": {
        "id": "H1r7cGS3OGq4"
      }
    },
    {
      "cell_type": "code",
      "source": [
        "materias= [ \"Matemáticas\", \"Física\", \"Química\", \"Historia\",\"Lengua\"]\n",
        "\n",
        "\n",
        "for materia in materias:\n",
        "\n",
        "  print(f\"yo estudio {materia}\")\n",
        "np.save('eje2materias', materias)"
      ],
      "metadata": {
        "id": "mlbn-dKRLDwS"
      },
      "execution_count": null,
      "outputs": []
    },
    {
      "cell_type": "markdown",
      "source": [
        "EJERCICIO 3"
      ],
      "metadata": {
        "id": "hA3ebhe8QZDY"
      }
    },
    {
      "cell_type": "code",
      "source": [
        "# Lista de asignaturas\n",
        "materias = [\"Matemáticas\", \"Física\", \"Química\", \"Historia\", \"Lengua\"]\n",
        "\n",
        "# Lista para guardar las notas\n",
        "notas = []\n",
        "\n",
        "# Pedir al usuario la nota de cada asignatura\n",
        "\n",
        "for materia in materias:\n",
        "    while True:\n",
        "        try:\n",
        "            nota = float(input(f\"Introduce la nota de {materia}: \"))\n",
        "            if 0 <= nota <= 20:\n",
        "                notas.append(nota)\n",
        "                break\n",
        "            else:\n",
        "                print(\"Por favor, introduce una nota entre 0 y 20.\")\n",
        "        except ValueError:\n",
        "            print(\"Por favor, introduce un número válido.\")\n",
        "\n",
        "# Mostrar las asignaturas con sus notas\n",
        "for asignatura, nota in zip(materias, notas):\n",
        "    print(f\"En {asignatura} has sacado {nota}\")\n",
        "\n",
        "\n",
        "np.save('eje3materias',materias)\n",
        "\n",
        "\n"
      ],
      "metadata": {
        "id": "7HvnYZnjN_Ta"
      },
      "execution_count": null,
      "outputs": []
    },
    {
      "cell_type": "markdown",
      "source": [
        "EJERCICIO 4\n"
      ],
      "metadata": {
        "id": "i63uYEiU_G_a"
      }
    },
    {
      "cell_type": "code",
      "source": [
        "\n",
        "# Lista para almacenar los números ganadores\n",
        "ganadores = []\n",
        "\n",
        "# Preguntar al usuario 3 números ganadores\n",
        "print(\"Introduce los 3 números ganadores de la lotería primitiva:\")\n",
        "\n",
        "while len(ganadores) < 3:\n",
        "    try:\n",
        "        num = int(input(f\"Número {len(ganadores)+1}: \"))\n",
        "        if 1 <= num <= 10:  # rango típico para la lotería primitiva\n",
        "            if num not in ganadores:\n",
        "                ganadores.append(num)\n",
        "            else:\n",
        "                print(\"Ese número ya lo has introducido, prueba con otro.\")\n",
        "        else:\n",
        "            print(\"Introduce un número entre 1 y 10.\")\n",
        "    except ValueError:\n",
        "        print(\"Por favor, introduce un número entero válido.\")\n",
        "\n",
        "# Ordenar la lista de menor a mayor\n",
        "ganadores.sort()\n",
        "\n",
        "# Mostrar los números ordenados\n",
        "print(\"Los números ganadores ordenados son:\")\n",
        "print(ganadores)\n",
        "np.save('eje4',ganadores)"
      ],
      "metadata": {
        "colab": {
          "base_uri": "https://localhost:8080/",
          "height": 373
        },
        "id": "2a8yxeoeQhkv",
        "outputId": "dfe12312-e4fa-401e-ac79-f8aec034077c"
      },
      "execution_count": 18,
      "outputs": [
        {
          "output_type": "stream",
          "name": "stdout",
          "text": [
            "Introduce los 3 números ganadores de la lotería primitiva:\n"
          ]
        },
        {
          "output_type": "error",
          "ename": "KeyboardInterrupt",
          "evalue": "Interrupted by user",
          "traceback": [
            "\u001b[0;31m---------------------------------------------------------------------------\u001b[0m",
            "\u001b[0;31mKeyboardInterrupt\u001b[0m                         Traceback (most recent call last)",
            "\u001b[0;32m/tmp/ipython-input-18-3636379101.py\u001b[0m in \u001b[0;36m<cell line: 0>\u001b[0;34m()\u001b[0m\n\u001b[1;32m      7\u001b[0m \u001b[0;32mwhile\u001b[0m \u001b[0mlen\u001b[0m\u001b[0;34m(\u001b[0m\u001b[0mganadores\u001b[0m\u001b[0;34m)\u001b[0m \u001b[0;34m<\u001b[0m \u001b[0;36m3\u001b[0m\u001b[0;34m:\u001b[0m\u001b[0;34m\u001b[0m\u001b[0;34m\u001b[0m\u001b[0m\n\u001b[1;32m      8\u001b[0m     \u001b[0;32mtry\u001b[0m\u001b[0;34m:\u001b[0m\u001b[0;34m\u001b[0m\u001b[0;34m\u001b[0m\u001b[0m\n\u001b[0;32m----> 9\u001b[0;31m         \u001b[0mnum\u001b[0m \u001b[0;34m=\u001b[0m \u001b[0mint\u001b[0m\u001b[0;34m(\u001b[0m\u001b[0minput\u001b[0m\u001b[0;34m(\u001b[0m\u001b[0;34mf\"Número {len(ganadores)+1}: \"\u001b[0m\u001b[0;34m)\u001b[0m\u001b[0;34m)\u001b[0m\u001b[0;34m\u001b[0m\u001b[0;34m\u001b[0m\u001b[0m\n\u001b[0m\u001b[1;32m     10\u001b[0m         \u001b[0;32mif\u001b[0m \u001b[0;36m1\u001b[0m \u001b[0;34m<=\u001b[0m \u001b[0mnum\u001b[0m \u001b[0;34m<=\u001b[0m \u001b[0;36m10\u001b[0m\u001b[0;34m:\u001b[0m  \u001b[0;31m# rango típico para la lotería primitiva\u001b[0m\u001b[0;34m\u001b[0m\u001b[0;34m\u001b[0m\u001b[0m\n\u001b[1;32m     11\u001b[0m             \u001b[0;32mif\u001b[0m \u001b[0mnum\u001b[0m \u001b[0;32mnot\u001b[0m \u001b[0;32min\u001b[0m \u001b[0mganadores\u001b[0m\u001b[0;34m:\u001b[0m\u001b[0;34m\u001b[0m\u001b[0;34m\u001b[0m\u001b[0m\n",
            "\u001b[0;32m/usr/local/lib/python3.11/dist-packages/ipykernel/kernelbase.py\u001b[0m in \u001b[0;36mraw_input\u001b[0;34m(self, prompt)\u001b[0m\n\u001b[1;32m   1175\u001b[0m                 \u001b[0;34m\"raw_input was called, but this frontend does not support input requests.\"\u001b[0m\u001b[0;34m\u001b[0m\u001b[0;34m\u001b[0m\u001b[0m\n\u001b[1;32m   1176\u001b[0m             )\n\u001b[0;32m-> 1177\u001b[0;31m         return self._input_request(\n\u001b[0m\u001b[1;32m   1178\u001b[0m             \u001b[0mstr\u001b[0m\u001b[0;34m(\u001b[0m\u001b[0mprompt\u001b[0m\u001b[0;34m)\u001b[0m\u001b[0;34m,\u001b[0m\u001b[0;34m\u001b[0m\u001b[0;34m\u001b[0m\u001b[0m\n\u001b[1;32m   1179\u001b[0m             \u001b[0mself\u001b[0m\u001b[0;34m.\u001b[0m\u001b[0m_parent_ident\u001b[0m\u001b[0;34m[\u001b[0m\u001b[0;34m\"shell\"\u001b[0m\u001b[0;34m]\u001b[0m\u001b[0;34m,\u001b[0m\u001b[0;34m\u001b[0m\u001b[0;34m\u001b[0m\u001b[0m\n",
            "\u001b[0;32m/usr/local/lib/python3.11/dist-packages/ipykernel/kernelbase.py\u001b[0m in \u001b[0;36m_input_request\u001b[0;34m(self, prompt, ident, parent, password)\u001b[0m\n\u001b[1;32m   1217\u001b[0m             \u001b[0;32mexcept\u001b[0m \u001b[0mKeyboardInterrupt\u001b[0m\u001b[0;34m:\u001b[0m\u001b[0;34m\u001b[0m\u001b[0;34m\u001b[0m\u001b[0m\n\u001b[1;32m   1218\u001b[0m                 \u001b[0;31m# re-raise KeyboardInterrupt, to truncate traceback\u001b[0m\u001b[0;34m\u001b[0m\u001b[0;34m\u001b[0m\u001b[0m\n\u001b[0;32m-> 1219\u001b[0;31m                 \u001b[0;32mraise\u001b[0m \u001b[0mKeyboardInterrupt\u001b[0m\u001b[0;34m(\u001b[0m\u001b[0;34m\"Interrupted by user\"\u001b[0m\u001b[0;34m)\u001b[0m \u001b[0;32mfrom\u001b[0m \u001b[0;32mNone\u001b[0m\u001b[0;34m\u001b[0m\u001b[0;34m\u001b[0m\u001b[0m\n\u001b[0m\u001b[1;32m   1220\u001b[0m             \u001b[0;32mexcept\u001b[0m \u001b[0mException\u001b[0m\u001b[0;34m:\u001b[0m\u001b[0;34m\u001b[0m\u001b[0;34m\u001b[0m\u001b[0m\n\u001b[1;32m   1221\u001b[0m                 \u001b[0mself\u001b[0m\u001b[0;34m.\u001b[0m\u001b[0mlog\u001b[0m\u001b[0;34m.\u001b[0m\u001b[0mwarning\u001b[0m\u001b[0;34m(\u001b[0m\u001b[0;34m\"Invalid Message:\"\u001b[0m\u001b[0;34m,\u001b[0m \u001b[0mexc_info\u001b[0m\u001b[0;34m=\u001b[0m\u001b[0;32mTrue\u001b[0m\u001b[0;34m)\u001b[0m\u001b[0;34m\u001b[0m\u001b[0;34m\u001b[0m\u001b[0m\n",
            "\u001b[0;31mKeyboardInterrupt\u001b[0m: Interrupted by user"
          ]
        }
      ]
    },
    {
      "cell_type": "markdown",
      "source": [
        "EJERCICIO 5"
      ],
      "metadata": {
        "id": "Vk3gbeWDXhhH"
      }
    },
    {
      "cell_type": "code",
      "source": [
        "numeros=[1,2,3,4,5,6,7,8,9,10]\n",
        "numeros_inverso =numeros [-1]\n",
        "print (numeros_inverso)\n"
      ],
      "metadata": {
        "colab": {
          "base_uri": "https://localhost:8080/"
        },
        "id": "SGu9ryevXnnX",
        "outputId": "55800965-eabb-4217-f1b9-5086b722d877"
      },
      "execution_count": 16,
      "outputs": [
        {
          "output_type": "stream",
          "name": "stdout",
          "text": [
            "10\n"
          ]
        }
      ]
    },
    {
      "cell_type": "code",
      "source": [
        "#ENTEROS\n",
        "np.int64"
      ],
      "metadata": {
        "colab": {
          "base_uri": "https://localhost:8080/"
        },
        "id": "xmC7JjRnhQtU",
        "outputId": "6d776dcd-291f-43fd-8ced-9f6af0e26156"
      },
      "execution_count": 20,
      "outputs": [
        {
          "output_type": "execute_result",
          "data": {
            "text/plain": [
              "numpy.int64"
            ]
          },
          "metadata": {},
          "execution_count": 20
        }
      ]
    },
    {
      "cell_type": "code",
      "source": [
        "#decimal, flotantes\n",
        "np.float64"
      ],
      "metadata": {
        "colab": {
          "base_uri": "https://localhost:8080/"
        },
        "id": "XgOKJAW_ipTc",
        "outputId": "7fa0cfaf-8ddc-4ac5-eb96-6ca276559c62"
      },
      "execution_count": 21,
      "outputs": [
        {
          "output_type": "execute_result",
          "data": {
            "text/plain": [
              "numpy.float64"
            ]
          },
          "metadata": {},
          "execution_count": 21
        }
      ]
    },
    {
      "cell_type": "code",
      "source": [
        "#complejos\n",
        "np.complex64"
      ],
      "metadata": {
        "colab": {
          "base_uri": "https://localhost:8080/"
        },
        "id": "zEZCzR0uizjj",
        "outputId": "cd67c009-8ac6-4927-9b16-b8c195e99c60"
      },
      "execution_count": 22,
      "outputs": [
        {
          "output_type": "execute_result",
          "data": {
            "text/plain": [
              "numpy.complex64"
            ]
          },
          "metadata": {},
          "execution_count": 22
        }
      ]
    },
    {
      "cell_type": "code",
      "source": [
        "#booleanos\n",
        "np.bool\n",
        "np-np.bool_"
      ],
      "metadata": {
        "id": "3r9JPhZ2jTdL"
      },
      "execution_count": null,
      "outputs": []
    },
    {
      "cell_type": "code",
      "source": [
        "#objectos\n",
        "np.object_"
      ],
      "metadata": {
        "colab": {
          "base_uri": "https://localhost:8080/"
        },
        "id": "0JPtEFGalgcr",
        "outputId": "eccd6dae-5f7b-4d87-f35e-67b62f769c14"
      },
      "execution_count": 25,
      "outputs": [
        {
          "output_type": "execute_result",
          "data": {
            "text/plain": [
              "numpy.object_"
            ]
          },
          "metadata": {},
          "execution_count": 25
        }
      ]
    },
    {
      "cell_type": "code",
      "source": [
        "#cadena de texto\n",
        "np.strings"
      ],
      "metadata": {
        "colab": {
          "base_uri": "https://localhost:8080/"
        },
        "id": "cDUnOmzwlpdD",
        "outputId": "429bfed7-ad07-4b3e-fc78-3eff30d84ca0"
      },
      "execution_count": 23,
      "outputs": [
        {
          "output_type": "execute_result",
          "data": {
            "text/plain": [
              "<module 'numpy.strings' from '/usr/local/lib/python3.11/dist-packages/numpy/strings/__init__.py'>"
            ]
          },
          "metadata": {},
          "execution_count": 23
        }
      ]
    },
    {
      "cell_type": "code",
      "source": [
        "np.bytes_"
      ],
      "metadata": {
        "colab": {
          "base_uri": "https://localhost:8080/"
        },
        "id": "hvpGQF0BmHKz",
        "outputId": "922b4979-3cc7-4750-ad49-97823ae97dbf"
      },
      "execution_count": 24,
      "outputs": [
        {
          "output_type": "execute_result",
          "data": {
            "text/plain": [
              "numpy.bytes_"
            ]
          },
          "metadata": {},
          "execution_count": 24
        }
      ]
    },
    {
      "cell_type": "code",
      "source": [
        "#datos que no se usa\n",
        "np.unicode"
      ],
      "metadata": {
        "id": "h5jTq7U5mUh7"
      },
      "execution_count": null,
      "outputs": []
    },
    {
      "cell_type": "markdown",
      "source": [
        "propiedades y caractericas de enteros"
      ],
      "metadata": {
        "id": "BDOFI7oZnGbc"
      }
    },
    {
      "cell_type": "code",
      "source": [
        "array_3id"
      ],
      "metadata": {
        "colab": {
          "base_uri": "https://localhost:8080/"
        },
        "id": "hRECa7EmmzsT",
        "outputId": "ef2fdcec-9517-4332-dd59-756b426d2903"
      },
      "execution_count": 32,
      "outputs": [
        {
          "output_type": "execute_result",
          "data": {
            "text/plain": [
              "array([[10., 20., 30.],\n",
              "       [40., 50., 60.],\n",
              "       [70., 80., 90.]])"
            ]
          },
          "metadata": {},
          "execution_count": 32
        }
      ]
    },
    {
      "cell_type": "code",
      "source": [
        "#ver la dimension de las  filas y columnas\n",
        "array_2id.shape"
      ],
      "metadata": {
        "colab": {
          "base_uri": "https://localhost:8080/"
        },
        "id": "8rFSMQsrnYSC",
        "outputId": "2f988999-7677-40e3-d5ca-3f725108c053"
      },
      "execution_count": 29,
      "outputs": [
        {
          "output_type": "execute_result",
          "data": {
            "text/plain": [
              "(2, 3)"
            ]
          },
          "metadata": {},
          "execution_count": 29
        }
      ]
    },
    {
      "cell_type": "code",
      "source": [
        "# contando la longitud  longitud el mayor de un array\n",
        "len(array_3id)"
      ],
      "metadata": {
        "id": "ET5vyE4vn3Ea"
      },
      "execution_count": null,
      "outputs": []
    },
    {
      "cell_type": "code",
      "source": [
        "#numero de dimensiones\n",
        "array_2id.ndim"
      ],
      "metadata": {
        "colab": {
          "base_uri": "https://localhost:8080/"
        },
        "id": "2AAqsbonoToE",
        "outputId": "391f1075-7750-4d70-ec49-b56970a7ea66"
      },
      "execution_count": 34,
      "outputs": [
        {
          "output_type": "execute_result",
          "data": {
            "text/plain": [
              "2"
            ]
          },
          "metadata": {},
          "execution_count": 34
        }
      ]
    },
    {
      "cell_type": "code",
      "source": [
        "array_5id = np.array([[10, 20, 30], [40, 50, 60], [70, 80, 90], [100, 101, 102], [100, 101, 102]], ndmin=5)\n",
        "print(array_5id)\n",
        "print(\"Dimensiones:\", array_5id.ndim)"
      ],
      "metadata": {
        "colab": {
          "base_uri": "https://localhost:8080/"
        },
        "id": "B2Q1DpTLpZRq",
        "outputId": "3cded77a-3651-4e9e-bdeb-6a8787bade04"
      },
      "execution_count": 49,
      "outputs": [
        {
          "output_type": "stream",
          "name": "stdout",
          "text": [
            "[[[[[ 10  20  30]\n",
            "    [ 40  50  60]\n",
            "    [ 70  80  90]\n",
            "    [100 101 102]\n",
            "    [100 101 102]]]]]\n",
            "Dimensiones: 5\n"
          ]
        }
      ]
    },
    {
      "cell_type": "code",
      "source": [
        "array_5id.ndim"
      ],
      "metadata": {
        "colab": {
          "base_uri": "https://localhost:8080/",
          "height": 141
        },
        "id": "2nmFbV0-qDY6",
        "outputId": "8aaffe4c-a8d8-4dce-ca29-c18acc486d90"
      },
      "execution_count": 43,
      "outputs": [
        {
          "output_type": "error",
          "ename": "AttributeError",
          "evalue": "'tuple' object has no attribute 'ndim'",
          "traceback": [
            "\u001b[0;31m---------------------------------------------------------------------------\u001b[0m",
            "\u001b[0;31mAttributeError\u001b[0m                            Traceback (most recent call last)",
            "\u001b[0;32m/tmp/ipython-input-43-431090376.py\u001b[0m in \u001b[0;36m<cell line: 0>\u001b[0;34m()\u001b[0m\n\u001b[0;32m----> 1\u001b[0;31m \u001b[0marray_5id\u001b[0m\u001b[0;34m.\u001b[0m\u001b[0mndim\u001b[0m\u001b[0;34m\u001b[0m\u001b[0;34m\u001b[0m\u001b[0m\n\u001b[0m",
            "\u001b[0;31mAttributeError\u001b[0m: 'tuple' object has no attribute 'ndim'"
          ]
        }
      ]
    },
    {
      "cell_type": "code",
      "source": [
        "array_3id.dtype.name"
      ],
      "metadata": {
        "colab": {
          "base_uri": "https://localhost:8080/",
          "height": 35
        },
        "id": "8hAqDVLMtErx",
        "outputId": "858561e4-8ee7-4bcc-bb65-ec5ce0bef34f"
      },
      "execution_count": 51,
      "outputs": [
        {
          "output_type": "execute_result",
          "data": {
            "text/plain": [
              "'float64'"
            ],
            "application/vnd.google.colaboratory.intrinsic+json": {
              "type": "string"
            }
          },
          "metadata": {},
          "execution_count": 51
        }
      ]
    },
    {
      "cell_type": "code",
      "source": [
        "array_5id.astype(np.float16)"
      ],
      "metadata": {
        "colab": {
          "base_uri": "https://localhost:8080/"
        },
        "id": "5L4ostxItQby",
        "outputId": "d84c48eb-26ab-4b77-ebba-85fd9c446be6"
      },
      "execution_count": 53,
      "outputs": [
        {
          "output_type": "execute_result",
          "data": {
            "text/plain": [
              "array([[[[[ 10.,  20.,  30.],\n",
              "          [ 40.,  50.,  60.],\n",
              "          [ 70.,  80.,  90.],\n",
              "          [100., 101., 102.],\n",
              "          [100., 101., 102.]]]]], dtype=float16)"
            ]
          },
          "metadata": {},
          "execution_count": 53
        }
      ]
    },
    {
      "cell_type": "code",
      "source": [
        "array_5id.astype(str)"
      ],
      "metadata": {
        "colab": {
          "base_uri": "https://localhost:8080/"
        },
        "id": "BxgOEt3xtZp5",
        "outputId": "948d9644-1a3c-4611-b114-8fe72d7389e1"
      },
      "execution_count": 55,
      "outputs": [
        {
          "output_type": "execute_result",
          "data": {
            "text/plain": [
              "array([[[[['10', '20', '30'],\n",
              "          ['40', '50', '60'],\n",
              "          ['70', '80', '90'],\n",
              "          ['100', '101', '102'],\n",
              "          ['100', '101', '102']]]]], dtype='<U21')"
            ]
          },
          "metadata": {},
          "execution_count": 55
        }
      ]
    },
    {
      "cell_type": "markdown",
      "source": [
        "operaciones matematicos"
      ],
      "metadata": {
        "id": "VWMt6SWnuQSw"
      }
    },
    {
      "cell_type": "code",
      "source": [
        "#array de ejmplo\n",
        "array4=np.random.random((4,4,2))\n",
        "array4"
      ],
      "metadata": {
        "colab": {
          "base_uri": "https://localhost:8080/"
        },
        "id": "fcG1dN3vt-qg",
        "outputId": "165ac6be-6c5f-4aa2-985b-44fec46aeb82"
      },
      "execution_count": 74,
      "outputs": [
        {
          "output_type": "execute_result",
          "data": {
            "text/plain": [
              "array([[[0.75354173, 0.57653602],\n",
              "        [0.03315195, 0.75345006],\n",
              "        [0.14776204, 0.70070125],\n",
              "        [0.39942277, 0.33407931]],\n",
              "\n",
              "       [[0.84246244, 0.34977379],\n",
              "        [0.05766964, 0.47102173],\n",
              "        [0.88361159, 0.70401634],\n",
              "        [0.49350164, 0.64768469]],\n",
              "\n",
              "       [[0.76026496, 0.74582354],\n",
              "        [0.11577004, 0.96981865],\n",
              "        [0.90660319, 0.69006394],\n",
              "        [0.78365851, 0.37230127]],\n",
              "\n",
              "       [[0.87552652, 0.4263565 ],\n",
              "        [0.17915313, 0.66016613],\n",
              "        [0.51193134, 0.71974561],\n",
              "        [0.0524705 , 0.94676733]]])"
            ]
          },
          "metadata": {},
          "execution_count": 74
        }
      ]
    },
    {
      "cell_type": "code",
      "source": [
        "#array\n",
        "array5=np.random.random((4,4,2))\n",
        "array5"
      ],
      "metadata": {
        "colab": {
          "base_uri": "https://localhost:8080/"
        },
        "id": "--zpUB5Eun0Z",
        "outputId": "2768cd01-b8d1-423d-e1e4-79611d95b28e"
      },
      "execution_count": 75,
      "outputs": [
        {
          "output_type": "execute_result",
          "data": {
            "text/plain": [
              "array([[[0.32014441, 0.31049068],\n",
              "        [0.76627258, 0.38269337],\n",
              "        [0.76389063, 0.09530723],\n",
              "        [0.7087377 , 0.83167038]],\n",
              "\n",
              "       [[0.90932793, 0.09109706],\n",
              "        [0.95998038, 0.40150877],\n",
              "        [0.27396766, 0.21196242],\n",
              "        [0.01230642, 0.5333484 ]],\n",
              "\n",
              "       [[0.68064765, 0.02707434],\n",
              "        [0.11257245, 0.97217024],\n",
              "        [0.57601404, 0.22354407],\n",
              "        [0.11633941, 0.21389777]],\n",
              "\n",
              "       [[0.56726508, 0.12385118],\n",
              "        [0.76256816, 0.76298772],\n",
              "        [0.23677032, 0.65547857],\n",
              "        [0.48099388, 0.59559877]]])"
            ]
          },
          "metadata": {},
          "execution_count": 75
        }
      ]
    },
    {
      "cell_type": "code",
      "source": [
        "array3=np.random.random((4,4,2))\n"
      ],
      "metadata": {
        "id": "302VF1nAu6Dg"
      },
      "execution_count": 77,
      "outputs": []
    },
    {
      "cell_type": "code",
      "source": [
        "#suma\n",
        "array6=array3+array4+array5\n",
        "array4"
      ],
      "metadata": {
        "colab": {
          "base_uri": "https://localhost:8080/"
        },
        "id": "2xWC4bZYvOTp",
        "outputId": "1b71ff8d-ca34-4dd0-ce52-c0a724217c5d"
      },
      "execution_count": 76,
      "outputs": [
        {
          "output_type": "execute_result",
          "data": {
            "text/plain": [
              "array([[[0.75354173, 0.57653602],\n",
              "        [0.03315195, 0.75345006],\n",
              "        [0.14776204, 0.70070125],\n",
              "        [0.39942277, 0.33407931]],\n",
              "\n",
              "       [[0.84246244, 0.34977379],\n",
              "        [0.05766964, 0.47102173],\n",
              "        [0.88361159, 0.70401634],\n",
              "        [0.49350164, 0.64768469]],\n",
              "\n",
              "       [[0.76026496, 0.74582354],\n",
              "        [0.11577004, 0.96981865],\n",
              "        [0.90660319, 0.69006394],\n",
              "        [0.78365851, 0.37230127]],\n",
              "\n",
              "       [[0.87552652, 0.4263565 ],\n",
              "        [0.17915313, 0.66016613],\n",
              "        [0.51193134, 0.71974561],\n",
              "        [0.0524705 , 0.94676733]]])"
            ]
          },
          "metadata": {},
          "execution_count": 76
        }
      ]
    },
    {
      "cell_type": "code",
      "source": [
        "#orta frma para sumar\n",
        "array7=np.add(array3,array4,array5)\n",
        "array7"
      ],
      "metadata": {
        "colab": {
          "base_uri": "https://localhost:8080/"
        },
        "id": "HiOvx0WIvqOE",
        "outputId": "1b2aa481-8180-4203-92f4-461bfac8da9f"
      },
      "execution_count": 78,
      "outputs": [
        {
          "output_type": "execute_result",
          "data": {
            "text/plain": [
              "array([[[1.03239976, 0.70677525],\n",
              "        [0.27161789, 1.30621077],\n",
              "        [0.39411109, 1.21382532],\n",
              "        [1.02006277, 0.56655419]],\n",
              "\n",
              "       [[1.12097529, 0.45858753],\n",
              "        [0.44567156, 0.88009643],\n",
              "        [1.5747275 , 1.64036233],\n",
              "        [1.08240607, 0.72068813]],\n",
              "\n",
              "       [[1.48205897, 0.82930916],\n",
              "        [0.30787116, 1.84874804],\n",
              "        [1.86371204, 1.67158351],\n",
              "        [1.74951121, 0.97190012]],\n",
              "\n",
              "       [[0.90014274, 0.54451308],\n",
              "        [0.65142172, 1.12171524],\n",
              "        [1.20198859, 1.5065948 ],\n",
              "        [0.39159389, 1.74611784]]])"
            ]
          },
          "metadata": {},
          "execution_count": 78
        }
      ]
    },
    {
      "cell_type": "code",
      "source": [
        "#resta\n",
        "array8=array7-array6\n",
        "array8"
      ],
      "metadata": {
        "colab": {
          "base_uri": "https://localhost:8080/"
        },
        "id": "7h4CJHmpvoGp",
        "outputId": "f547af17-d7d0-4944-f416-59b8b5b600b7"
      },
      "execution_count": 79,
      "outputs": [
        {
          "output_type": "execute_result",
          "data": {
            "text/plain": [
              "array([[[-0.05407254, -0.88447434],\n",
              "        [-0.59833201,  0.16843533],\n",
              "        [-1.01829065,  0.23994682],\n",
              "        [-0.69992127, -1.50354981]],\n",
              "\n",
              "       [[-1.01052232, -0.81898755],\n",
              "        [-1.42908164, -0.54440616],\n",
              "        [ 0.23859217,  0.09916537],\n",
              "        [ 0.49326564, -1.40680625]],\n",
              "\n",
              "       [[-0.26291776, -0.58311992],\n",
              "        [-0.50376832, -0.17044116],\n",
              "        [-0.37865955,  0.51023321],\n",
              "        [-0.08668471, -0.26996389]],\n",
              "\n",
              "       [[-0.99533683, -0.91013321],\n",
              "        [-1.22991568, -1.06307083],\n",
              "        [ 0.41736969, -0.3982297 ],\n",
              "        [-1.08590592, -0.35821859]]])"
            ]
          },
          "metadata": {},
          "execution_count": 79
        }
      ]
    },
    {
      "cell_type": "code",
      "source": [
        "#multiplicacion\n",
        "array9=np.multiply(array8,array4)\n",
        "array9"
      ],
      "metadata": {
        "colab": {
          "base_uri": "https://localhost:8080/"
        },
        "id": "889itp90wvOC",
        "outputId": "fe808a82-58e9-41f7-bdd7-f5244252c192"
      },
      "execution_count": 80,
      "outputs": [
        {
          "output_type": "execute_result",
          "data": {
            "text/plain": [
              "array([[[-0.04074591, -0.50993132],\n",
              "        [-0.01983587,  0.12690761],\n",
              "        [-0.15046471,  0.16813104],\n",
              "        [-0.27956449, -0.50230487]],\n",
              "\n",
              "       [[-0.8513271 , -0.28646038],\n",
              "        [-0.08241462, -0.25642713],\n",
              "        [ 0.21082281,  0.06981404],\n",
              "        [ 0.2434274 , -0.91116687]],\n",
              "\n",
              "       [[-0.19988716, -0.43490456],\n",
              "        [-0.05832128, -0.16529701],\n",
              "        [-0.34329395,  0.35209354],\n",
              "        [-0.06793121, -0.1005079 ]],\n",
              "\n",
              "       [[-0.87144379, -0.38804121],\n",
              "        [-0.22034324, -0.70180335],\n",
              "        [ 0.21366462, -0.28662408],\n",
              "        [-0.05697803, -0.33914966]]])"
            ]
          },
          "metadata": {},
          "execution_count": 80
        }
      ]
    },
    {
      "cell_type": "code",
      "source": [
        "#resta con funcion\n",
        "array10=np.subtract\n",
        "#division\n",
        "array11=np.divide(array7,array8)\n",
        "array11"
      ],
      "metadata": {
        "colab": {
          "base_uri": "https://localhost:8080/"
        },
        "id": "34sy9rJcxJAq",
        "outputId": "7bda3fbd-0251-4cb3-8d91-f3ad204d2bc2"
      },
      "execution_count": 82,
      "outputs": [
        {
          "output_type": "execute_result",
          "data": {
            "text/plain": [
              "array([[[-19.09286629,  -0.79909073],\n",
              "        [ -0.45395847,   7.75496926],\n",
              "        [ -0.38703202,   5.05872644],\n",
              "        [ -1.45739645,  -0.37681106]],\n",
              "\n",
              "       [[ -1.10930285,  -0.55994445],\n",
              "        [ -0.31185872,  -1.61661733],\n",
              "        [  6.60008035,  16.54168588],\n",
              "        [  2.19436747,  -0.51228669]],\n",
              "\n",
              "       [[ -5.63696785,  -1.42219315],\n",
              "        [ -0.6111364 , -10.84684051],\n",
              "        [ -4.92186731,   3.27611663],\n",
              "        [-20.18246646,  -3.60011158]],\n",
              "\n",
              "       [[ -0.90435992,  -0.59827844],\n",
              "        [ -0.52964746,  -1.0551651 ],\n",
              "        [  2.87991348,  -3.78323061],\n",
              "        [ -0.36061493,  -4.87444779]]])"
            ]
          },
          "metadata": {},
          "execution_count": 82
        }
      ]
    },
    {
      "cell_type": "code",
      "source": [
        "#exponente\n",
        "np.exp(array3)"
      ],
      "metadata": {
        "colab": {
          "base_uri": "https://localhost:8080/"
        },
        "id": "ieV6eQezyAj5",
        "outputId": "03e62543-8077-40e2-df07-030a5a38af2b"
      },
      "execution_count": 83,
      "outputs": [
        {
          "output_type": "execute_result",
          "data": {
            "text/plain": [
              "array([[[1.3216197 , 1.13910085],\n",
              "        [1.26930047, 1.73804464],\n",
              "        [1.27934605, 1.67050183],\n",
              "        [1.86011815, 1.26171876]],\n",
              "\n",
              "       [[1.32116358, 1.11495465],\n",
              "        [1.47403262, 1.50542417],\n",
              "        [1.99594159, 2.55064431],\n",
              "        [1.80201311, 1.07573424]],\n",
              "\n",
              "       [[2.05812219, 1.08706959],\n",
              "        [1.21179305, 2.40831994],\n",
              "        [2.60415658, 2.66850815],\n",
              "        [2.62702679, 1.82138801]],\n",
              "\n",
              "       [[1.0249217 , 1.12542031],\n",
              "        [1.60362804, 1.58652979],\n",
              "        [1.99382967, 2.19646486],\n",
              "        [1.40371654, 2.22409592]]])"
            ]
          },
          "metadata": {},
          "execution_count": 83
        }
      ]
    },
    {
      "cell_type": "code",
      "source": [
        "#seno\n",
        "np.sin(array5)\n",
        "#coseno\n",
        "np.cos(array6)\n",
        "#logaritmo\n",
        "np.log(array3)\n"
      ],
      "metadata": {
        "id": "rtC0py7PyWsB"
      },
      "execution_count": null,
      "outputs": []
    },
    {
      "cell_type": "markdown",
      "source": [
        "COMPARACIONES ENTRE MATRICES"
      ],
      "metadata": {
        "id": "5SW-hXmWy5eo"
      }
    },
    {
      "cell_type": "code",
      "source": [
        "#==\n",
        "array4==array3"
      ],
      "metadata": {
        "colab": {
          "base_uri": "https://localhost:8080/"
        },
        "id": "yCliaZ7cy4oQ",
        "outputId": "aeda944d-ea83-4c49-e9e8-aa0d14e60581"
      },
      "execution_count": 84,
      "outputs": [
        {
          "output_type": "execute_result",
          "data": {
            "text/plain": [
              "array([[[False, False],\n",
              "        [False, False],\n",
              "        [False, False],\n",
              "        [False, False]],\n",
              "\n",
              "       [[False, False],\n",
              "        [False, False],\n",
              "        [False, False],\n",
              "        [False, False]],\n",
              "\n",
              "       [[False, False],\n",
              "        [False, False],\n",
              "        [False, False],\n",
              "        [False, False]],\n",
              "\n",
              "       [[False, False],\n",
              "        [False, False],\n",
              "        [False, False],\n",
              "        [False, False]]])"
            ]
          },
          "metadata": {},
          "execution_count": 84
        }
      ]
    },
    {
      "cell_type": "code",
      "source": [
        "#<\n",
        "array11 < 0.5"
      ],
      "metadata": {
        "colab": {
          "base_uri": "https://localhost:8080/"
        },
        "id": "HqfccDsEzLDH",
        "outputId": "4d0d27a0-925e-4844-a741-ecdf5fbb8050"
      },
      "execution_count": 87,
      "outputs": [
        {
          "output_type": "execute_result",
          "data": {
            "text/plain": [
              "array([[[ True,  True],\n",
              "        [ True, False],\n",
              "        [ True, False],\n",
              "        [ True,  True]],\n",
              "\n",
              "       [[ True,  True],\n",
              "        [ True,  True],\n",
              "        [False, False],\n",
              "        [False,  True]],\n",
              "\n",
              "       [[ True,  True],\n",
              "        [ True,  True],\n",
              "        [ True, False],\n",
              "        [ True,  True]],\n",
              "\n",
              "       [[ True,  True],\n",
              "        [ True,  True],\n",
              "        [False,  True],\n",
              "        [ True,  True]]])"
            ]
          },
          "metadata": {},
          "execution_count": 87
        }
      ]
    },
    {
      "cell_type": "code",
      "source": [
        "#>\n",
        "array11 > 0.5"
      ],
      "metadata": {
        "colab": {
          "base_uri": "https://localhost:8080/"
        },
        "id": "Kqx1yXZxzh5X",
        "outputId": "6674cd2a-863f-4c3a-e43b-44d86d24577e"
      },
      "execution_count": 88,
      "outputs": [
        {
          "output_type": "execute_result",
          "data": {
            "text/plain": [
              "array([[[False, False],\n",
              "        [False,  True],\n",
              "        [False,  True],\n",
              "        [False, False]],\n",
              "\n",
              "       [[False, False],\n",
              "        [False, False],\n",
              "        [ True,  True],\n",
              "        [ True, False]],\n",
              "\n",
              "       [[False, False],\n",
              "        [False, False],\n",
              "        [False,  True],\n",
              "        [False, False]],\n",
              "\n",
              "       [[False, False],\n",
              "        [False, False],\n",
              "        [ True, False],\n",
              "        [False, False]]])"
            ]
          },
          "metadata": {},
          "execution_count": 88
        }
      ]
    },
    {
      "cell_type": "code",
      "source": [
        "#<=  /  >=\n",
        "array8<=0.1"
      ],
      "metadata": {
        "colab": {
          "base_uri": "https://localhost:8080/"
        },
        "id": "dZGunw1Dzpkv",
        "outputId": "44889f4c-514d-47a6-fcef-df6452bfdda8"
      },
      "execution_count": 89,
      "outputs": [
        {
          "output_type": "execute_result",
          "data": {
            "text/plain": [
              "array([[[ True,  True],\n",
              "        [ True, False],\n",
              "        [ True, False],\n",
              "        [ True,  True]],\n",
              "\n",
              "       [[ True,  True],\n",
              "        [ True,  True],\n",
              "        [False,  True],\n",
              "        [False,  True]],\n",
              "\n",
              "       [[ True,  True],\n",
              "        [ True,  True],\n",
              "        [ True, False],\n",
              "        [ True,  True]],\n",
              "\n",
              "       [[ True,  True],\n",
              "        [ True,  True],\n",
              "        [False,  True],\n",
              "        [ True,  True]]])"
            ]
          },
          "metadata": {},
          "execution_count": 89
        }
      ]
    },
    {
      "cell_type": "markdown",
      "source": [
        "ESTADISTICAS  Y FUNCIONES"
      ],
      "metadata": {
        "id": "i7kJs4tCz5W3"
      }
    },
    {
      "cell_type": "code",
      "source": [
        "array1 =np.random.random((5,5,))\n",
        "array1"
      ],
      "metadata": {
        "colab": {
          "base_uri": "https://localhost:8080/"
        },
        "id": "tsMLlLhoz2SX",
        "outputId": "88a064a1-5f59-4fb3-dea4-9fd70a3b16ab"
      },
      "execution_count": 92,
      "outputs": [
        {
          "output_type": "execute_result",
          "data": {
            "text/plain": [
              "array([[0.33269999, 0.38702922, 0.73605048, 0.31403313, 0.55078243],\n",
              "       [0.87223171, 0.52344602, 0.7477825 , 0.6831739 , 0.94307531],\n",
              "       [0.30667063, 0.63091583, 0.3585126 , 0.43443847, 0.4917522 ],\n",
              "       [0.04881734, 0.47951702, 0.65349701, 0.93233672, 0.29698554],\n",
              "       [0.27761291, 0.86975706, 0.10974581, 0.04341164, 0.0551592 ]])"
            ]
          },
          "metadata": {},
          "execution_count": 92
        }
      ]
    },
    {
      "cell_type": "code",
      "source": [
        "#SUMA\n",
        "suma_total=array4.sum()\n",
        "print(suma_total)"
      ],
      "metadata": {
        "colab": {
          "base_uri": "https://localhost:8080/"
        },
        "id": "TOU2yAou00SP",
        "outputId": "2fb87d5c-ea42-47b9-a0f1-034d250e1f16"
      },
      "execution_count": 93,
      "outputs": [
        {
          "output_type": "stream",
          "name": "stdout",
          "text": [
            "17.864808117850863\n"
          ]
        }
      ]
    },
    {
      "cell_type": "code",
      "source": [
        "#valor minino - maximo\n",
        "array6.max()\n",
        "array6.min()"
      ],
      "metadata": {
        "colab": {
          "base_uri": "https://localhost:8080/"
        },
        "id": "iOCySufD1Pr_",
        "outputId": "cfd9ffa4-841b-42f0-9b1d-e83bb2fa31d9"
      },
      "execution_count": 95,
      "outputs": [
        {
          "output_type": "execute_result",
          "data": {
            "text/plain": [
              "np.float64(0.5891404329839509)"
            ]
          },
          "metadata": {},
          "execution_count": 95
        }
      ]
    },
    {
      "cell_type": "code",
      "source": [
        "#maximo por la fila\n",
        "array6.max(axis=1)"
      ],
      "metadata": {
        "colab": {
          "base_uri": "https://localhost:8080/"
        },
        "id": "qfdGI_jL1dZY",
        "outputId": "5037a9c7-c7ec-472e-ea4f-cb4fd98544b1"
      },
      "execution_count": 97,
      "outputs": [
        {
          "output_type": "execute_result",
          "data": {
            "text/plain": [
              "array([[1.71998404, 2.070104  ],\n",
              "       [2.13149761, 2.12749438],\n",
              "       [2.24237159, 2.0191892 ],\n",
              "       [1.89547957, 2.18478606]])"
            ]
          },
          "metadata": {},
          "execution_count": 97
        }
      ]
    },
    {
      "cell_type": "code",
      "source": [
        "#fila acumulada\n",
        "array7.comsum(axis=1)"
      ],
      "metadata": {
        "colab": {
          "base_uri": "https://localhost:8080/",
          "height": 158
        },
        "id": "QETWKQVI1y9w",
        "outputId": "7c49ea93-12ec-415b-ba14-ff0a9960dd19"
      },
      "execution_count": 99,
      "outputs": [
        {
          "output_type": "error",
          "ename": "AttributeError",
          "evalue": "'numpy.ndarray' object has no attribute 'comsum'",
          "traceback": [
            "\u001b[0;31m---------------------------------------------------------------------------\u001b[0m",
            "\u001b[0;31mAttributeError\u001b[0m                            Traceback (most recent call last)",
            "\u001b[0;32m/tmp/ipython-input-99-2445271316.py\u001b[0m in \u001b[0;36m<cell line: 0>\u001b[0;34m()\u001b[0m\n\u001b[1;32m      1\u001b[0m \u001b[0;31m#fila acumulada\u001b[0m\u001b[0;34m\u001b[0m\u001b[0;34m\u001b[0m\u001b[0m\n\u001b[0;32m----> 2\u001b[0;31m \u001b[0marray7\u001b[0m\u001b[0;34m.\u001b[0m\u001b[0mcomsum\u001b[0m\u001b[0;34m(\u001b[0m\u001b[0maxis\u001b[0m\u001b[0;34m=\u001b[0m\u001b[0;36m1\u001b[0m\u001b[0;34m)\u001b[0m\u001b[0;34m\u001b[0m\u001b[0;34m\u001b[0m\u001b[0m\n\u001b[0m",
            "\u001b[0;31mAttributeError\u001b[0m: 'numpy.ndarray' object has no attribute 'comsum'"
          ]
        }
      ]
    },
    {
      "cell_type": "code",
      "source": [],
      "metadata": {
        "id": "AkAu5Q5_2iEm"
      },
      "execution_count": null,
      "outputs": []
    }
  ]
}